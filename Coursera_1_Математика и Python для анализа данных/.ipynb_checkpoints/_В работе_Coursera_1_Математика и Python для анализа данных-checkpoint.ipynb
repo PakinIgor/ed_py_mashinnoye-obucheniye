{
 "cells": [
  {
   "cell_type": "code",
   "execution_count": null,
   "metadata": {},
   "outputs": [],
   "source": [
    "# "
   ]
  },
  {
   "cell_type": "code",
   "execution_count": 2,
   "metadata": {},
   "outputs": [
    {
     "name": "stdout",
     "output_type": "stream",
     "text": [
      "0 1 0 1\n"
     ]
    }
   ],
   "source": [
    "print \" \".join([str(x ** 2 % 2) for x in range(4)])"
   ]
  },
  {
   "cell_type": "code",
   "execution_count": 5,
   "metadata": {},
   "outputs": [
    {
     "data": {
      "text/plain": [
       "<function __main__.<lambda>>"
      ]
     },
     "execution_count": 5,
     "metadata": {},
     "output_type": "execute_result"
    }
   ],
   "source": [
    "lambda x, y: x ** 2"
   ]
  },
  {
   "cell_type": "code",
   "execution_count": null,
   "metadata": {},
   "outputs": [],
   "source": [
    "'hello, world!'\n",
    "'hello, world!'\n",
    "t = 'hello, world!'\n",
    "t\n",
    "'hello, world!'\n",
    "print t\n",
    "hello, world!\n",
    "6**4\n",
    "1296\n",
    "100/12\n",
    "8\n",
    "100./12\n",
    "8.333333333333334\n",
    "round(100./12, 3)\n",
    "8.333\n",
    "from math import factorial\n",
    "factorial(3)\n",
    "6\n",
    "factorial(10)*0.5\n",
    "1814400.0\n",
    "text\n",
    "\n",
    "Header\n",
    "для редактирования формулы ниже использует синтаксис tex\n",
    "\n",
    "𝑐=𝑎2+𝑏2⎯⎯⎯⎯⎯⎯⎯⎯⎯⎯⎯⎯√\n",
    " \n",
    "! echo 'hello, world!'\n",
    "hello, world!\n",
    "!echo $t\n",
    "hello, world!\n",
    "%%bash\n",
    "mkdir test_directory\n",
    "cd test_directory/\n",
    "ls  -a\n",
    ".\n",
    "..\n",
    "#удаление директории, если она не нужна\n",
    "! rm -r test_directory\n",
    "Ниже аналоги команд для пользователей Windows:\n",
    "\n",
    "%%cmd\n",
    "mkdir test_directory\n",
    "cd test_directory\n",
    "dir\n",
    "удаление директории, если она не нужна (windows)\n",
    "\n",
    "%%cmd \n",
    "rmdir test_directiory\n",
    "%lsmagic\n",
    "Available line magics:\n",
    "%alias  %alias_magic  %autocall  %automagic  %autosave  %bookmark  %cat  %cd  %clear  %colors  %config  %connect_info  %cp  %debug  %dhist  %dirs  %doctest_mode  %ed  %edit  %env  %gui  %hist  %history  %install_default_config  %install_ext  %install_profiles  %killbgscripts  %ldir  %less  %lf  %lk  %ll  %load  %load_ext  %loadpy  %logoff  %logon  %logstart  %logstate  %logstop  %ls  %lsmagic  %lx  %macro  %magic  %man  %matplotlib  %mkdir  %more  %mv  %notebook  %page  %pastebin  %pdb  %pdef  %pdoc  %pfile  %pinfo  %pinfo2  %popd  %pprint  %precision  %profile  %prun  %psearch  %psource  %pushd  %pwd  %pycat  %pylab  %qtconsole  %quickref  %recall  %rehashx  %reload_ext  %rep  %rerun  %reset  %reset_selective  %rm  %rmdir  %run  %save  %sc  %set_env  %store  %sx  %system  %tb  %time  %timeit  %unalias  %unload_ext  %who  %who_ls  %whos  %xdel  %xmode  %ydf\n",
    "\n",
    "Available cell magics:\n",
    "%%!  %%HTML  %%SVG  %%bash  %%capture  %%debug  %%file  %%html  %%javascript  %%latex  %%perl  %%prun  %%pypy  %%python  %%python2  %%python3  %%ruby  %%script  %%sh  %%svg  %%sx  %%system  %%time  %%timeit  %%writefile\n",
    "\n",
    "Automagic is ON, % prefix IS NOT needed for line magics.\n",
    "%pylab inline\n",
    "Populating the interactive namespace from numpy and matplotlib\n",
    "y = range(11)\n",
    "y\n",
    "[0, 1, 2, 3, 4, 5, 6, 7, 8, 9, 10]\n",
    "plot(y)\n",
    "[<matplotlib.lines.Line2D at 0x572ccd0>]\n"
   ]
  }
 ],
 "metadata": {
  "kernelspec": {
   "display_name": "Python 2",
   "language": "python",
   "name": "python2"
  },
  "language_info": {
   "codemirror_mode": {
    "name": "ipython",
    "version": 2
   },
   "file_extension": ".py",
   "mimetype": "text/x-python",
   "name": "python",
   "nbconvert_exporter": "python",
   "pygments_lexer": "ipython2",
   "version": "2.7.16"
  }
 },
 "nbformat": 4,
 "nbformat_minor": 2
}
